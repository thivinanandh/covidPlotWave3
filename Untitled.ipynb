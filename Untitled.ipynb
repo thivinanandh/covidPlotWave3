{
 "cells": [
  {
   "cell_type": "code",
   "execution_count": 30,
   "id": "e8d65475-947e-423d-8840-4cac419f04eb",
   "metadata": {},
   "outputs": [],
   "source": [
    "import pandas as pd"
   ]
  },
  {
   "cell_type": "code",
   "execution_count": 41,
   "id": "7fd1952d-8b76-4c5e-9dd9-906baa451181",
   "metadata": {},
   "outputs": [],
   "source": [
    "data = {\n",
    "        '1':[20, 30, 40, 50],\n",
    "        '2': [30,40,50,60],\n",
    "       'Scenario' : [\"S1\",\"S2\",\"S3\",\"S4\"]  }\n",
    "\n",
    "\n",
    "\n",
    "\n",
    "dataMaster = {\n",
    "        '1':[100, 100, 100, 100],\n",
    "        '2': [100,100,100,100],\n",
    "         'Scenario' : [\"S1\",\"S2\",\"S3\",\"S4\"]    }\n",
    "\n",
    "\n",
    "df = pd.DataFrame(data)\n",
    "dfMaster = pd.DataFrame(dataMaster)\n",
    "\n",
    "index_list = [\"Total\"] * 4\n",
    "df.index = index_list\n",
    "dfMaster.index = index_list\n"
   ]
  },
  {
   "cell_type": "code",
   "execution_count": 37,
   "id": "92fadfbc-7a11-474c-b4f7-2da592532798",
   "metadata": {},
   "outputs": [
    {
     "data": {
      "text/html": [
       "<div>\n",
       "<style scoped>\n",
       "    .dataframe tbody tr th:only-of-type {\n",
       "        vertical-align: middle;\n",
       "    }\n",
       "\n",
       "    .dataframe tbody tr th {\n",
       "        vertical-align: top;\n",
       "    }\n",
       "\n",
       "    .dataframe thead th {\n",
       "        text-align: right;\n",
       "    }\n",
       "</style>\n",
       "<table border=\"1\" class=\"dataframe\">\n",
       "  <thead>\n",
       "    <tr style=\"text-align: right;\">\n",
       "      <th></th>\n",
       "      <th>1</th>\n",
       "      <th>2</th>\n",
       "      <th>Scenario</th>\n",
       "    </tr>\n",
       "  </thead>\n",
       "  <tbody>\n",
       "    <tr>\n",
       "      <th>Total</th>\n",
       "      <td>200</td>\n",
       "      <td>300</td>\n",
       "      <td>S1</td>\n",
       "    </tr>\n",
       "    <tr>\n",
       "      <th>Total</th>\n",
       "      <td>300</td>\n",
       "      <td>400</td>\n",
       "      <td>S2</td>\n",
       "    </tr>\n",
       "    <tr>\n",
       "      <th>Total</th>\n",
       "      <td>400</td>\n",
       "      <td>500</td>\n",
       "      <td>S3</td>\n",
       "    </tr>\n",
       "    <tr>\n",
       "      <th>Total</th>\n",
       "      <td>500</td>\n",
       "      <td>600</td>\n",
       "      <td>S4</td>\n",
       "    </tr>\n",
       "  </tbody>\n",
       "</table>\n",
       "</div>"
      ],
      "text/plain": [
       "         1    2 Scenario\n",
       "Total  200  300       S1\n",
       "Total  300  400       S2\n",
       "Total  400  500       S3\n",
       "Total  500  600       S4"
      ]
     },
     "execution_count": 37,
     "metadata": {},
     "output_type": "execute_result"
    }
   ],
   "source": [
    "dfMaster"
   ]
  },
  {
   "cell_type": "code",
   "execution_count": 44,
   "id": "b77b499f-210c-4c8b-a6f1-2c26213ef9f2",
   "metadata": {},
   "outputs": [
    {
     "data": {
      "text/html": [
       "<div>\n",
       "<style scoped>\n",
       "    .dataframe tbody tr th:only-of-type {\n",
       "        vertical-align: middle;\n",
       "    }\n",
       "\n",
       "    .dataframe tbody tr th {\n",
       "        vertical-align: top;\n",
       "    }\n",
       "\n",
       "    .dataframe thead th {\n",
       "        text-align: right;\n",
       "    }\n",
       "</style>\n",
       "<table border=\"1\" class=\"dataframe\">\n",
       "  <thead>\n",
       "    <tr style=\"text-align: right;\">\n",
       "      <th></th>\n",
       "      <th>1</th>\n",
       "      <th>2</th>\n",
       "      <th>Scenario</th>\n",
       "    </tr>\n",
       "  </thead>\n",
       "  <tbody>\n",
       "    <tr>\n",
       "      <th>Total</th>\n",
       "      <td>20</td>\n",
       "      <td>30</td>\n",
       "      <td>S1</td>\n",
       "    </tr>\n",
       "    <tr>\n",
       "      <th>Total</th>\n",
       "      <td>30</td>\n",
       "      <td>40</td>\n",
       "      <td>S2</td>\n",
       "    </tr>\n",
       "    <tr>\n",
       "      <th>Total</th>\n",
       "      <td>40</td>\n",
       "      <td>50</td>\n",
       "      <td>S3</td>\n",
       "    </tr>\n",
       "    <tr>\n",
       "      <th>Total</th>\n",
       "      <td>50</td>\n",
       "      <td>60</td>\n",
       "      <td>S4</td>\n",
       "    </tr>\n",
       "  </tbody>\n",
       "</table>\n",
       "</div>"
      ],
      "text/plain": [
       "        1   2 Scenario\n",
       "Total  20  30       S1\n",
       "Total  30  40       S2\n",
       "Total  40  50       S3\n",
       "Total  50  60       S4"
      ]
     },
     "execution_count": 44,
     "metadata": {},
     "output_type": "execute_result"
    }
   ],
   "source": [
    "df"
   ]
  },
  {
   "cell_type": "code",
   "execution_count": 42,
   "id": "1bf3b199-6e5e-44d8-9a72-cd64bf84e900",
   "metadata": {},
   "outputs": [],
   "source": [
    "df_ratio = dfMaster.copy(deep=True)\n",
    "for i in range(2):\n",
    "    df_ratio[[str(i+1)]] = df[[str(i+1)]].div(dfMaster[[str(i+1)]],axis=1)"
   ]
  },
  {
   "cell_type": "code",
   "execution_count": 43,
   "id": "d7764345-8840-4acb-a6cb-62d1e88af26f",
   "metadata": {},
   "outputs": [
    {
     "data": {
      "text/html": [
       "<div>\n",
       "<style scoped>\n",
       "    .dataframe tbody tr th:only-of-type {\n",
       "        vertical-align: middle;\n",
       "    }\n",
       "\n",
       "    .dataframe tbody tr th {\n",
       "        vertical-align: top;\n",
       "    }\n",
       "\n",
       "    .dataframe thead th {\n",
       "        text-align: right;\n",
       "    }\n",
       "</style>\n",
       "<table border=\"1\" class=\"dataframe\">\n",
       "  <thead>\n",
       "    <tr style=\"text-align: right;\">\n",
       "      <th></th>\n",
       "      <th>1</th>\n",
       "      <th>2</th>\n",
       "      <th>Scenario</th>\n",
       "    </tr>\n",
       "  </thead>\n",
       "  <tbody>\n",
       "    <tr>\n",
       "      <th>Total</th>\n",
       "      <td>0.2</td>\n",
       "      <td>0.3</td>\n",
       "      <td>S1</td>\n",
       "    </tr>\n",
       "    <tr>\n",
       "      <th>Total</th>\n",
       "      <td>0.3</td>\n",
       "      <td>0.4</td>\n",
       "      <td>S2</td>\n",
       "    </tr>\n",
       "    <tr>\n",
       "      <th>Total</th>\n",
       "      <td>0.4</td>\n",
       "      <td>0.5</td>\n",
       "      <td>S3</td>\n",
       "    </tr>\n",
       "    <tr>\n",
       "      <th>Total</th>\n",
       "      <td>0.5</td>\n",
       "      <td>0.6</td>\n",
       "      <td>S4</td>\n",
       "    </tr>\n",
       "  </tbody>\n",
       "</table>\n",
       "</div>"
      ],
      "text/plain": [
       "         1    2 Scenario\n",
       "Total  0.2  0.3       S1\n",
       "Total  0.3  0.4       S2\n",
       "Total  0.4  0.5       S3\n",
       "Total  0.5  0.6       S4"
      ]
     },
     "execution_count": 43,
     "metadata": {},
     "output_type": "execute_result"
    }
   ],
   "source": [
    "df_ratio"
   ]
  },
  {
   "cell_type": "code",
   "execution_count": null,
   "id": "a4354e99-538c-47e6-a3bc-9120d5bb381a",
   "metadata": {},
   "outputs": [],
   "source": []
  }
 ],
 "metadata": {
  "kernelspec": {
   "display_name": "Python 3 (ipykernel)",
   "language": "python",
   "name": "python3"
  },
  "language_info": {
   "codemirror_mode": {
    "name": "ipython",
    "version": 3
   },
   "file_extension": ".py",
   "mimetype": "text/x-python",
   "name": "python",
   "nbconvert_exporter": "python",
   "pygments_lexer": "ipython3",
   "version": "3.7.9"
  }
 },
 "nbformat": 4,
 "nbformat_minor": 5
}
