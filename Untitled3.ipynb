{
 "cells": [
  {
   "cell_type": "code",
   "execution_count": null,
   "id": "cfed972d-9fb6-4e97-ba32-513333d90c74",
   "metadata": {},
   "outputs": [],
   "source": []
  }
 ],
 "metadata": {
  "kernelspec": {
   "display_name": "Python 3 (ipykernel)",
   "language": "python",
   "name": "python3"
  },
  "language_info": {
   "name": ""
  }
 },
 "nbformat": 4,
 "nbformat_minor": 5
}
