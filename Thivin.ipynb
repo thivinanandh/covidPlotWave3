{
 "cells": [
  {
   "cell_type": "code",
   "execution_count": 3,
   "id": "bba8ae84-0c62-41a9-9a03-034bcd567e45",
   "metadata": {
    "jupyter": {
     "source_hidden": true
    },
    "tags": []
   },
   "outputs": [],
   "source": [
    "import numpy as np\n",
    "import pandas as pd\n",
    "import matplotlib.pyplot as plt\n",
    "import datetime \n",
    "import os.path\n",
    "from os import path\n",
    "import seaborn as sns\n",
    "from scipy import signal"
   ]
  },
  {
   "cell_type": "code",
   "execution_count": 488,
   "id": "d6d34fb2-aa28-42cf-be11-d06828119976",
   "metadata": {
    "tags": []
   },
   "outputs": [],
   "source": [
    "## 1, -- KDP_nu\n",
    "KDP_nu_name=[\"CIR40\" ,\"CIR50\"]\n",
    "KDP_nu=[1,1.25]\n",
    "\n",
    "## 2,  --  KDP_w_sat_1  -- -\n",
    "KDP_w_sat_1_name=[\"0_33\" ,\"0_66\" ,\"1_00\"]\n",
    "KDP_w_sat_1=[0.33, 0.66 ,1.00]\n",
    "\n",
    "## 3,  --  KDP_w_sat_2  -- -\n",
    "KDP_w_sat_2_name=[\"ImmunEscp_Jul\" ,\"ImmunEscp_Sep\", \"ImmunEscp_Nov\"]\n",
    "KDP_w_sat_2=[380, 442 ,503]\n",
    "\n",
    "## 4,  --  KDP_g_1  -- -\n",
    "KDP_g_1_name=[\"0_33\", \"0_66\" ,\"1_00\"]\n",
    "KDP_g_1=[0.33, 0.66, 1.00]\n",
    "\n",
    "## 5,  --  KDP_g_2  -- -\n",
    "KDP_g_2_name=[\"ABW150Days\" ,\"ABW180Days\"]\n",
    "KDP_g_2=[150 ,180]\n",
    "\n",
    "## 6,  --  KDP_c_p  -- -\n",
    "KDP_c_p_name=[\"Vaccine_PresentRate\", \"Vaccine_BestWeekAvg\", \"Vaccine_TwicePresent\"]\n",
    "KDP_c_p=[1 ,1.5, 2]\n",
    "\n",
    "KDP_lambda_name=[\"SD_RA\",\"SD_RAR\",\"SD_RARF\"]\n",
    "KDP_lambda=[0,0.1,0.2]\n",
    "\n",
    "### CODE FOR OBTAINING DATE VALUES ####################\n",
    "start =\"2020-07-01\"\n",
    "end  = \"2022-06-30\"\n",
    "\n",
    "start = datetime.datetime.strptime(start, \"%Y-%m-%d\")\n",
    "end = datetime.datetime.strptime(end, \"%Y-%m-%d\")\n",
    "date_generated = [start + datetime.timedelta(days=x) for x in range(0, (end-start).days)]\n",
    "\n",
    "\n",
    "\n",
    "for i in range(len(date_generated)):\n",
    "    date_generated[i] = date_generated[i].strftime(\"%d-%b-%y\")\n"
   ]
  },
  {
   "cell_type": "code",
   "execution_count": 80,
   "id": "af362974-29e2-4688-8819-36ea052cd92b",
   "metadata": {
    "jupyter": {
     "source_hidden": true
    },
    "tags": []
   },
   "outputs": [],
   "source": [
    "def ReadDF(fname):\n",
    "    df_master = pd.DataFrame()\n",
    "    dateOfPeak = []\n",
    "    dayOfPeak = []\n",
    "    numAtPeak = []\n",
    "    vaccRate = []\n",
    "    numRead = 0\n",
    "    for i in range(len(KDP_nu)):\n",
    "            for j in range(len(KDP_w_sat_1)):\n",
    "                for k in range(len(KDP_w_sat_2)):\n",
    "                    for l in range(len(KDP_g_1_name)):\n",
    "                        for m in range(len(KDP_g_2)):\n",
    "                            for n in range(len(KDP_c_p)):\n",
    "                                for o in range(len(KDP_lambda)):\n",
    "                                    if(path.exists(KDP_nu_name[i] + \"_\" + KDP_w_sat_1_name[j] + \"_\" + KDP_w_sat_2_name[k] + \"_\" + \\\n",
    "                                                KDP_g_1_name[l] + \"_\" + KDP_g_2_name[m] + \"_\" + KDP_c_p_name[n] + \"_\" + \\\n",
    "                                                KDP_lambda_name[o]+\"/PopulationData/\"+ fname)):\n",
    "                                        df_temp = pd.read_csv(KDP_nu_name[i] + \"_\" + KDP_w_sat_1_name[j] + \"_\" + KDP_w_sat_2_name[k] + \"_\" + \\\n",
    "                                                KDP_g_1_name[l] + \"_\" + KDP_g_2_name[m] + \"_\" + KDP_c_p_name[n] + \"_\" + \\\n",
    "                                                KDP_lambda_name[o]+\"/PopulationData/\"+fname, delim_whitespace=True, header=1).transpose().loc['Total':]\n",
    "\n",
    "                                        \n",
    "\n",
    "                                        ExptId = KDP_nu_name[i] + \"_\" + KDP_w_sat_1_name[j] + \"_\" + KDP_w_sat_2_name[k] + \"_\" + \\\n",
    "                                                KDP_g_1_name[l] + \"_\" + KDP_g_2_name[m] + \"_\" + KDP_c_p_name[n] + \"_\" + \\\n",
    "                                                KDP_lambda_name[o]\n",
    "                                        VaccineRt = str(KDP_c_p_name[n])\n",
    "                                        CIR = str(KDP_nu_name[i]) \n",
    "                                        SD = str(KDP_lambda_name[o])\n",
    "                                        KDPwsat = str(KDP_w_sat_2_name[k])\n",
    "\n",
    "                                        numRead+=1\n",
    "\n",
    "\n",
    "                                        df_temp['ID'] = ExptId\n",
    "                                        df_temp['Vaccine Rate'] = VaccineRt\n",
    "                                        df_temp['CIR'] = CIR\n",
    "                                        df_temp['SD'] = SD\n",
    "                                        df_temp['KDPwsat2']=KDPwsat\n",
    "                                        df_temp['Scenario'] = numRead\n",
    "                                        \n",
    "                                                                \n",
    "                                        df_master = pd.concat([df_master,df_temp])\n",
    "\n",
    "\n",
    "    print(str(numRead) + \" samples have been read \")\n",
    "    return df_master\n",
    "                                    "
   ]
  },
  {
   "cell_type": "code",
   "execution_count": 494,
   "id": "0c91e3f4-9227-4afe-b07f-f200570e907e",
   "metadata": {
    "tags": []
   },
   "outputs": [
    {
     "name": "stdout",
     "output_type": "stream",
     "text": [
      "972 samples have been read \n",
      "972 samples have been read \n",
      "972 samples have been read \n",
      "972 samples have been read \n",
      "972 samples have been read \n",
      "972 samples have been read \n",
      "972 samples have been read \n",
      "972 samples have been read \n",
      "972 samples have been read \n"
     ]
    }
   ],
   "source": [
    "\n",
    "\n",
    "\n",
    "#### - Read the Nucleation Data\n",
    "df_nucleation_total = ReadDF(\"CovidNucleation.data\")\n",
    "df_nucleation_11 = ReadDF(\"CovidNucleation_11Yrs.data\")\n",
    "df_nucleation_18 = ReadDF(\"CovidNucleation_18Yrs.data\")\n",
    "df_nucleation_45 = ReadDF(\"CovidNucleation_45Yrs.data\")\n",
    "df_nucleation_60 = ReadDF(\"CovidNucleation_60Yrs.data\")\n",
    "df_nucleation_60plus = ReadDF(\"CovidNuclthegreaeation_Above60Yrs.data\")\n",
    "\n",
    "\n",
    "## Read the VaccinationData\n",
    "#### Read the Vaccination and the Antibody plots\n",
    "\n",
    "df_antibody = ReadDF(\"Covid_Vaccinated.data\")\n",
    "df_Vaccinated = ReadDF(\"Covid_Antibody.data\")\n"
   ]
  },
  {
   "cell_type": "code",
   "execution_count": 519,
   "id": "a2711894-f080-49b8-b5b0-ae1be6f109ea",
   "metadata": {},
   "outputs": [
    {
     "name": "stdout",
     "output_type": "stream",
     "text": [
      "972 samples have been read \n"
     ]
    }
   ],
   "source": [
    "################# --- READ THE MASTER DATA ------------- ####################################\n",
    "\n",
    "df_active= ReadDF(\"CovidPopulation.data\")"
   ]
  },
  {
   "cell_type": "code",
   "execution_count": 496,
   "id": "2d1fae06-994f-4c93-98b0-70bc76728dd5",
   "metadata": {
    "tags": []
   },
   "outputs": [],
   "source": [
    "################ THIVIN ####################################\n",
    "### Compute New dataframes for the ratio Quantities    -- Nucleation_age/Nucleation_Total\n",
    "\n",
    "############# HARDCODED ##########################\n",
    "##  Total of 730 days simulated \n",
    "ROWS = 730\n",
    "\n",
    "### getList of columns\n",
    "listOfCols = list(df_nucleation_total.columns.values)\n",
    "\n",
    "#### create a copy of all the dataframes to store the ratio values\n",
    "df_nucleation_11_ratio = df_nucleation_11.copy(deep=True)\n",
    "df_nucleation_18_ratio = df_nucleation_18.copy(deep=True)\n",
    "df_nucleation_45_ratio = df_nucleation_45.copy(deep=True)\n",
    "df_nucleation_60_ratio = df_nucleation_60.copy(deep=True)\n",
    "df_nucleation_60plus_ratio = df_nucleation_60plus.copy(deep=True)\n",
    "\n",
    "\n",
    "##### Compute Ratios ##################\n",
    "\n",
    "for i in range(ROWS + 1):\n",
    "    df_nucleation_11_ratio[[i]] =  df_nucleation_11_ratio[[i]].div(df_nucleation_total[[i]],axis=1) \n",
    "    df_nucleation_18_ratio[[i]] =  df_nucleation_18_ratio[[i]].div(df_nucleation_total[[i]],axis=1) \n",
    "    df_nucleation_45_ratio[[i]] =  df_nucleation_45_ratio[[i]].div(df_nucleation_total[[i]],axis=1) \n",
    "    df_nucleation_60_ratio[[i]] =  df_nucleation_60_ratio[[i]].div(df_nucleation_total[[i]],axis=1) \n",
    "    df_nucleation_60plus_ratio[[i]] =  df_nucleation_60plus_ratio[[i]].div(df_nucleation_total[[i]],axis=1) \n",
    "\n",
    "    \n",
    "## remove the NA values\n",
    "df_nucleation_11_ratio = df_nucleation_11_ratio.replace(np.nan,0)\n",
    "df_nucleation_18_ratio = df_nucleation_18_ratio.replace(np.nan,0)\n",
    "df_nucleation_45_ratio = df_nucleation_45_ratio.replace(np.nan,0)\n",
    "df_nucleation_60_ratio = df_nucleation_60_ratio.replace(np.nan,0)\n",
    "df_nucleation_60plus_ratio = df_nucleation_60plus_ratio.replace(np.nan,0)\n",
    "\n"
   ]
  },
  {
   "cell_type": "code",
   "execution_count": 479,
   "id": "507dcde4-ddb7-4ca2-ac15-5d6438818709",
   "metadata": {
    "jupyter": {
     "source_hidden": true
    },
    "tags": []
   },
   "outputs": [],
   "source": [
    "\n",
    "def plot_histo(df,X,hue,bw):\n",
    "    df_plot=df\n",
    "    df_plot.dropna(subset=['Date Of Peak'],inplace=True)\n",
    "    sns.set(rc={'figure.figsize':(20,15)})\n",
    "    sns.histplot(data=df_plot,x=X, hue=hue, binwidth=bw,multiple='dodge',fill=True)\n",
    "    \n",
    "    \n",
    "def plot_violin(X,Y,df,hue,scale,cut,bandwidth):\n",
    "    df_plot = df\n",
    "    df_plot.dropna(subset=['Date Of Peak'],inplace=True)\n",
    "    df_plot = df_plot.loc[df_plot[Y]< 4000000]\n",
    "    sns.set(rc={'figure.figsize':(15,10)})\n",
    "    sns.violinplot(x=X,y=Y,data=df_plot,hue=hue,split=True,scale=scale,cut=cut,bw=bandwidth)\n",
    "\n",
    "def plot_catplot(X,Y,df,hue,scale,cut,bandwidth,xticks):\n",
    "    df_plot = df\n",
    "    df_plot.dropna(subset=['Date Of Peak'],inplace=True)\n",
    "    df_plot = df_plot.loc[df_plot[Y]< 4000000]\n",
    "#     sns.set(rc={'figure.figsize':(15,10)})\n",
    "    fig = sns.catplot(x=X, y=Y,\n",
    "                hue=hue, col=\"Vaccine Rate\",data=df_plot,\n",
    "                kind=\"violin\", split=True,\n",
    "                height=4, aspect=.9,scale=scale,cut=cut,bw=bandwidth);\n",
    "    fig.set_xticklabels(xticks)\n",
    "\n",
    "def timeSeriesPlot(X,Y,df,hue,scale,cut):\n",
    "    df_plot = df\n",
    "    df_plot.dropna(subset=['Date Of Peak'],inplace=True)\n",
    "    df_plot = df_plot.loc[df_plot[Y]< 10]\n",
    "    print(df_plot)\n",
    "#     sns.set(rc={'figure.figsize':(15,10)})\n",
    "    sns.catplot(x=X, y=Y,\n",
    "                hue=hue, col=\"Vaccine Rate\",data=df_plot,\n",
    "                kind=\"violin\", split=True,\n",
    "                height=4, aspect=.9,scale=scale,cut=cut,bw=bandwidth);"
   ]
  },
  {
   "cell_type": "code",
   "execution_count": 524,
   "id": "a4a0ea3f-13a5-45dc-a10a-8c1aecb7aeff",
   "metadata": {
    "tags": []
   },
   "outputs": [],
   "source": [
    "##########--- Compute MeanData ----- ######\n",
    "def AddMeanInfo(df):\n",
    "    meanval = []\n",
    "    minval = []\n",
    "    maxval = []\n",
    "    for i in range(731):\n",
    "        meanval.append(np.mean(df[i]))\n",
    "        minval.append(np.min(df[i]))\n",
    "        maxval.append(np.max(df[i]))\n",
    "    df.append(minval)\n",
    "    df.append(maxval)\n",
    "    df.append(meanval)\n",
    "    \n",
    "\n",
    "import scipy\n",
    "def AddPeakInfo(df_master):\n",
    "    dateOfPeak = []\n",
    "    numAtPeak = []\n",
    "    dateString = [] \n",
    "    for ia in range(len(df_master)):\n",
    "        dop = scipy.signal.find_peaks(df_master.iloc[[ia]].transpose().loc[0:730,'Total'],distance = 20)\n",
    "        for ib in range(len(dop[0])):\n",
    "            if (dop[0][ib]>365):\n",
    "                dateOfPeak.append(dop[0][ib])\n",
    "                numAtPeak.append(df_master.iloc[ia,dop[0][ib]])\n",
    "                dateString.append(date_generated[dop[0][ib]])\n",
    "                break\n",
    "            if(ib)==len(dop[0])-1:\n",
    "                #print(\"Scenario \" + str(ia) + \" Does Not Have a Peak \")\n",
    "                dateOfPeak.append(float('nan'))\n",
    "                numAtPeak.append(float('nan'))\n",
    "                dateString.append(float('nan'))\n",
    "    df_master['Date Of Peak'] = dateOfPeak\n",
    "    df_master['Number At Peak'] = numAtPeak\n",
    "    df_master['DateString'] = dateString\n",
    "    return df_master\n",
    "        \n",
    "        \n",
    "    "
   ]
  },
  {
   "cell_type": "code",
   "execution_count": 525,
   "id": "da38c755-0463-4973-9be8-a7f34af87afa",
   "metadata": {
    "tags": []
   },
   "outputs": [],
   "source": [
    "### -- Compute the Peak Data of the Time Series --- #####\n",
    "\n",
    "df_active = AddPeakInfo(df_active)\n",
    "\n",
    "### -- Compute the Mean Data of the Time Series --- #####\n",
    "# df_active = AddMeanInfo(df_active)"
   ]
  },
  {
   "cell_type": "code",
   "execution_count": 562,
   "id": "7acae6ad-e3a0-4147-a5d6-4df0ceb57819",
   "metadata": {},
   "outputs": [
    {
     "name": "stdout",
     "output_type": "stream",
     "text": [
      "                                                                        ID  Date Of Peak  Number At Peak DateString\n",
      "Total  CIR40_0_33_ImmunEscp_Nov_0_33_ABW150Days_Vaccine_PresentRate_SD_RAR         604.0        188217.0  25-Feb-22\n",
      "Total  CIR40_0_33_ImmunEscp_Nov_0_33_ABW180Days_Vaccine_PresentRate_SD_RAR         604.0        188217.0  25-Feb-22\n",
      "Total  CIR40_0_33_ImmunEscp_Nov_0_66_ABW150Days_Vaccine_PresentRate_SD_RAR         603.0        192173.0  24-Feb-22\n",
      "Total  CIR40_0_33_ImmunEscp_Nov_0_66_ABW180Days_Vaccine_PresentRate_SD_RAR         603.0        192173.0  24-Feb-22\n",
      "Total  CIR40_0_33_ImmunEscp_Nov_1_00_ABW150Days_Vaccine_PresentRate_SD_RAR         602.0        196484.0  23-Feb-22\n",
      "Total  CIR40_0_33_ImmunEscp_Nov_1_00_ABW180Days_Vaccine_PresentRate_SD_RAR         602.0        196484.0  23-Feb-22\n",
      "Total  CIR40_0_66_ImmunEscp_Nov_0_33_ABW150Days_Vaccine_PresentRate_SD_RAR         601.0        193934.0  22-Feb-22\n",
      "Total  CIR40_0_66_ImmunEscp_Nov_0_33_ABW180Days_Vaccine_PresentRate_SD_RAR         601.0        193934.0  22-Feb-22\n",
      "Total  CIR40_0_66_ImmunEscp_Nov_0_66_ABW150Days_Vaccine_PresentRate_SD_RAR         600.0        197657.0  21-Feb-22\n",
      "Total  CIR40_0_66_ImmunEscp_Nov_0_66_ABW180Days_Vaccine_PresentRate_SD_RAR         600.0        197657.0  21-Feb-22\n",
      "Total  CIR40_0_66_ImmunEscp_Nov_1_00_ABW150Days_Vaccine_PresentRate_SD_RAR         599.0        201808.0  20-Feb-22\n",
      "Total  CIR40_0_66_ImmunEscp_Nov_1_00_ABW180Days_Vaccine_PresentRate_SD_RAR         599.0        201808.0  20-Feb-22\n",
      "Total  CIR40_1_00_ImmunEscp_Nov_0_33_ABW150Days_Vaccine_PresentRate_SD_RAR         598.0        200090.0  19-Feb-22\n",
      "Total  CIR40_1_00_ImmunEscp_Nov_0_33_ABW180Days_Vaccine_PresentRate_SD_RAR         598.0        200090.0  19-Feb-22\n",
      "Total  CIR40_1_00_ImmunEscp_Nov_0_66_ABW150Days_Vaccine_PresentRate_SD_RAR         597.0        203814.0  18-Feb-22\n",
      "Total  CIR40_1_00_ImmunEscp_Nov_0_66_ABW180Days_Vaccine_PresentRate_SD_RAR         597.0        203814.0  18-Feb-22\n",
      "Total  CIR40_1_00_ImmunEscp_Nov_1_00_ABW150Days_Vaccine_PresentRate_SD_RAR         596.0        208082.0  17-Feb-22\n",
      "Total  CIR40_1_00_ImmunEscp_Nov_1_00_ABW180Days_Vaccine_PresentRate_SD_RAR         596.0        208082.0  17-Feb-22\n"
     ]
    }
   ],
   "source": [
    "### PLOT THE OUTLIERS FOR BI MODAL PLOTS ######\n",
    "\n",
    "KDPSAT2      = \"ImmunEscp_Nov\"\n",
    "VACCINERATE  = \"Vaccine_PresentRate\"\n",
    "CIRR         = \"CIR40\"\n",
    "\n",
    "OutlierNov = df_active.loc[(df_active['KDPwsat2'] == KDPSAT2) &  (df_active['Vaccine Rate'] == VACCINERATE) & (df_active['CIR'] == CIRR)].copy(deep=True)\n",
    "\n",
    "result  = OutlierNov.dropna(subset=['Date Of Peak'], inplace=False)\n",
    "pd.set_option('display.max_rows', None, 'display.max_columns', None)\n",
    "pd.set_option('display.max_colwidth', None)\n",
    "\n",
    "print(result.loc[result['Date Of Peak'] >= 545][['ID','Date Of Peak','Number At Peak','DateString']])"
   ]
  },
  {
   "cell_type": "code",
   "execution_count": null,
   "id": "48648383-12d8-4739-b661-35dce0f05d1b",
   "metadata": {},
   "outputs": [],
   "source": []
  }
 ],
 "metadata": {
  "kernelspec": {
   "display_name": "Python 3 (ipykernel)",
   "language": "python",
   "name": "python3"
  },
  "language_info": {
   "codemirror_mode": {
    "name": "ipython",
    "version": 3
   },
   "file_extension": ".py",
   "mimetype": "text/x-python",
   "name": "python",
   "nbconvert_exporter": "python",
   "pygments_lexer": "ipython3",
   "version": "3.7.9"
  }
 },
 "nbformat": 4,
 "nbformat_minor": 5
}
